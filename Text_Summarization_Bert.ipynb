{
  "nbformat": 4,
  "nbformat_minor": 0,
  "metadata": {
    "colab": {
      "name": "Text_Summarization_Bert.ipynb",
      "private_outputs": true,
      "provenance": []
    },
    "kernelspec": {
      "name": "python3",
      "display_name": "Python 3"
    },
    "language_info": {
      "name": "python"
    },
    "accelerator": "GPU"
  },
  "cells": [
    {
      "cell_type": "code",
      "source": [
        "!pip install transformers==4.19.2\n",
        "!pip install spacy==2.0.12\n",
        "!pip install bert-extractive-summarizer \n"
      ],
      "metadata": {
        "id": "LjFlY78R1kaP"
      },
      "execution_count": null,
      "outputs": []
    },
    {
      "cell_type": "code",
      "source": [
        "from summarizer import Summarizer,TransformerSummarizer"
      ],
      "metadata": {
        "id": "aWtt-Due3rsF"
      },
      "execution_count": null,
      "outputs": []
    },
    {
      "cell_type": "code",
      "source": [
        "body = '''\n",
        "       Scientists say they have discovered a new species of orangutans on Indonesia’s island of Sumatra.\n",
        "The population differs in several ways from the two existing orangutan species found in Sumatra and the neighboring island of Borneo.\n",
        "The orangutans were found inside North Sumatra’s Batang Toru forest, the science publication Current Biology reported.\n",
        "Researchers named the new species the Tapanuli orangutan. They say the animals are considered a new species because of genetic, skeletal and tooth differences.\n",
        "Michael Kruetzen is a geneticist with the University of Zurich who has studied the orangutans for several years. He said he was excited to be part of the unusual discovery of a new great ape in the present day. He noted that most great apes are currently considered endangered or severely endangered.\n",
        "Gorillas, chimpanzees and bonobos also belong to the great ape species.\n",
        "Orangutan – which means person of the forest in the Indonesian and Malay languages - is the world’s biggest tree-living mammal. The orange-haired animals can move easily among the trees because their arms are longer than their legs. They live more lonely lives than other great apes, spending a lot of time sleeping and eating fruit in the forest.\n",
        "The new study said fewer than 800 of the newly-described orangutans exist. Their low numbers make the group the most endangered of all the great ape species.\n",
        "They live within an area covering about 1,000 square kilometers. The population is considered highly vulnerable. That is because the environment which they depend on is greatly threatened by development.\n",
        "Researchers say if steps are not taken quickly to reduce the current and future threats, the new species could become extinct “within our lifetime.”\n",
        "Research into the new species began in 2013, when an orangutan protection group in Sumatra found an injured orangutan in an area far away from the other species. The adult male orangutan had been beaten by local villagers and died of his injuries. The complete skull was examined by researchers.\n",
        "Among the physical differences of the new species are a notably smaller head and frizzier hair. The Tapanuli orangutans also have a different diet and are found only in higher forest areas.\n",
        "There is no unified international system for recognizing new species. But to be considered, discovery claims at least require publication in a major scientific publication.\n",
        "Russell Mittermeier is head of the primate specialist group at the International Union for the Conservation of Nature. He called the finding a “remarkable discovery.” He said it puts responsibility on the Indonesian government to help the species survive.\n",
        "Matthew Nowak is one of the writers of the study. He told the Associated Press that there are three groups of the Tapanuli orangutans that are separated by non-protected land.He said forest land needs to connect the separated groups.\n",
        "In addition, the writers of the study are recommending that plans for a hydropower center in the area be stopped by the government.\n",
        "It also recommended that remaining forest in the Sumatran area where the orangutans live be protected.\n",
        "I’m Bryan Lynn.\n",
        "\n",
        "        '''"
      ],
      "metadata": {
        "id": "A_wqcMcj7JgT"
      },
      "execution_count": null,
      "outputs": []
    },
    {
      "cell_type": "markdown",
      "source": [
        "# Text Summarization with BERT"
      ],
      "metadata": {
        "id": "7QiFQ41rEXFh"
      }
    },
    {
      "cell_type": "markdown",
      "source": [
        "It is a pre-trained model that is naturally bidirectional. This pre-trained model can be tuned to easily perform the NLP tasks as specified, Summarization"
      ],
      "metadata": {
        "id": "-qGUujusD242"
      }
    },
    {
      "cell_type": "code",
      "source": [
        "bert_model = Summarizer()\n",
        "bert_summary = ''.join(bert_model(body, min_length=10))\n",
        "print(len(bert_summary))"
      ],
      "metadata": {
        "id": "-9IFc9BK4l6q"
      },
      "execution_count": null,
      "outputs": []
    },
    {
      "cell_type": "markdown",
      "source": [
        "# Text Summarization with GPT-2"
      ],
      "metadata": {
        "id": "Yj1RvU7F9AS9"
      }
    },
    {
      "cell_type": "markdown",
      "source": [
        "Let’s explore the power of another beast — the Generative Pre-trained Transformer 2 (which has around 1 billion parameters) and can only imagine the power of the most recent GPT3 which has 175 billion parameters!"
      ],
      "metadata": {
        "id": "IehfrGlvDnzR"
      }
    },
    {
      "cell_type": "code",
      "source": [
        "GPT2_model = TransformerSummarizer(transformer_type=\"GPT2\",transformer_model_key=\"gpt2-medium\")\n",
        "full = ''.join(GPT2_model(body, min_length=60))\n",
        "print(len(full))"
      ],
      "metadata": {
        "id": "ziyFqrrW9BMr"
      },
      "execution_count": null,
      "outputs": []
    },
    {
      "cell_type": "code",
      "source": [
        "print(full)"
      ],
      "metadata": {
        "id": "7l2BlXEN9tRt"
      },
      "execution_count": null,
      "outputs": []
    },
    {
      "cell_type": "markdown",
      "source": [
        "# Text Summarization with XLNet"
      ],
      "metadata": {
        "id": "Jmm04McgCHlr"
      }
    },
    {
      "cell_type": "markdown",
      "source": [
        "XLNet is particularly interesting for language generation because it is pre-trained in a regressive manner similar to the GPT family of models."
      ],
      "metadata": {
        "id": "BXxb5tAxCtUM"
      }
    },
    {
      "cell_type": "code",
      "source": [
        "model = TransformerSummarizer(transformer_type=\"XLNet\",transformer_model_key=\"xlnet-base-cased\")\n",
        "full_summary = ''.join(model(body, min_length=60))\n",
        "print(len(full_summary))\n"
      ],
      "metadata": {
        "id": "CYDWtis5-C_h"
      },
      "execution_count": null,
      "outputs": []
    },
    {
      "cell_type": "markdown",
      "source": [
        "# Awesome! Looks like this summary is written by a person!\n",
        "Hope you had fun observing the brilliant capabilities of these major players of Natural Language Generation and Text Summarization!"
      ],
      "metadata": {
        "id": "KgmftabCFH2J"
      }
    },
    {
      "cell_type": "code",
      "source": [
        "#from summarizer import Summarizer\n",
        "#model=Summarizer()\n",
        "#text='''\n",
        "#OpenGenus Foundation is an open-source non-profit organization with the aim to enable people to work offline for a longer stretch, reduce the time spent on searching by exploiting the fact that almost 90% of the searches are same for every generation and to make programming more accessible.OpenGenus is all about positivity and innovation.Over 1000 people have contributed to our missions and joined our family. We have been sponsored by three great companies namely Discourse, GitHub and DigitalOcean. We run one of the most popular Internship program and open-source projects and have made a positive impact over people's life.\n",
        "#'''\n",
        "\n",
        "#summary=model(text)\n",
        "#print(len(summary))"
      ],
      "metadata": {
        "id": "LR0vkytx-3lW"
      },
      "execution_count": null,
      "outputs": []
    }
  ]
}